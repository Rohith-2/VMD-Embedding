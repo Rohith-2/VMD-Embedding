{
 "cells": [
  {
   "cell_type": "code",
   "execution_count": 1,
   "id": "f78dda1e",
   "metadata": {},
   "outputs": [],
   "source": [
    "import numpy as np\n",
    "import pandas as pd\n",
    "from nltk.tokenize import word_tokenize\n",
    "import os\n",
    "import scipy.signal\n",
    "import fasttext\n",
    "\n",
    "from nltk.tokenize import word_tokenize\n",
    "from sklearn.metrics import f1_score,accuracy_score\n",
    "from numba import jit, prange\n",
    "from tqdm import tqdm\n",
    "from vmdpy import VMD\n",
    "from sklearn.model_selection import train_test_split\n",
    "from sklearn.metrics import classification_report\n",
    "from sklearn.preprocessing import LabelEncoder\n",
    "from sklearn.model_selection import train_test_split\n",
    "from sklearn.linear_model import LogisticRegression\n",
    "from sklearn.ensemble import RandomForestClassifier\n",
    "from sklearn.neighbors import KNeighborsClassifier\n",
    "from sklearn.feature_extraction.text import TfidfVectorizer\n",
    "from sklearn.manifold import TSNE\n",
    "os.chdir('../')\n",
    "os.chdir('data/')"
   ]
  },
  {
   "cell_type": "code",
   "execution_count": 2,
   "id": "cea16ff2",
   "metadata": {
    "code_folding": [
     0,
     15,
     23
    ]
   },
   "outputs": [],
   "source": [
    "def format_text(df,col):\n",
    "      comp_df = df.copy()\n",
    "      # remove all the punctuation\n",
    "      comp_df[col] = comp_df[col].str.replace(r'(@\\w*)','')\n",
    "\n",
    "      #Remove all non-character\n",
    "      comp_df[col] = comp_df[col].str.replace(r\"[^a-zA-Z ]\",\"\")\n",
    "\n",
    "      # Remove extra space\n",
    "      comp_df[col] = comp_df[col].str.strip()\n",
    "\n",
    "      # Change to lowercase\n",
    "      comp_df[col] = comp_df[col].str.lower()\n",
    "      return comp_df\n",
    "\n",
    "def energy(u):\n",
    "# Estimate PSD `S_xx_welch` at discrete frequencies `f_welch`\n",
    "    f_welch, S_xx_welch = scipy.signal.welch(u)\n",
    "    # Integrate PSD over spectral bandwidth\n",
    "    # to obtain signal power `P_welch`\n",
    "    df_welch = f_welch[1] - f_welch[0]\n",
    "    return np.sum(S_xx_welch) * df_welch  \n",
    "\n",
    "def maxvdm(f):\n",
    "    alpha = 2     \n",
    "    tau = 0            \n",
    "    K = 2       \n",
    "    DC = 0             \n",
    "    init = 1           \n",
    "    tol = 1e-9\n",
    "    u, u_hat, omega = VMD(f, alpha, tau, K, DC, init, tol) \n",
    "    energy_array=[]\n",
    "    for i in u:\n",
    "        energy_array.append(energy(i))\n",
    "    ind = np.argmax(energy_array)\n",
    "    return u[ind]"
   ]
  },
  {
   "cell_type": "code",
   "execution_count": 3,
   "id": "9bf14312",
   "metadata": {
    "code_folding": [
     0,
     13
    ]
   },
   "outputs": [],
   "source": [
    "def tune(f,alpha,K):   \n",
    "    tau = 0                 \n",
    "    DC = 0             \n",
    "    init = 1           \n",
    "    tol = 1e-9\n",
    "    u, u_hat, omega = VMD(f, alpha, tau, K, DC, init, tol) \n",
    "    energy_array=[]\n",
    "    for i in u:\n",
    "        energy_array.append(energy(i))\n",
    "    ind = np.argmax(energy_array)\n",
    "    return u[ind]\n",
    "\n",
    "@jit(parallel=True,forceobj=True)\n",
    "def tuning(features,y):\n",
    "    f_dict={}\n",
    "    acc_dict={}\n",
    "    for k in prange(2,5):\n",
    "        for al in tqdm(prange(2,6)):\n",
    "            X = []\n",
    "            for i in prange(len(features)):\n",
    "                X.append(tune(features[i],al,k))\n",
    "                \n",
    "            X_train, X_test, y_train, y_test = train_test_split(features, y, test_size=0.25)\n",
    "            \n",
    "            lr = LogisticRegression()\n",
    "            lr.fit(X_train,y_train)\n",
    "            y_pred = lr.predict(X_test)\n",
    "            \n",
    "            f = f1_score(y_test, y_pred)\n",
    "            a = accuracy_score(y_test, y_pred)\n",
    "            f_dict['K : '+str(k)+' Alpha : '+str(al)] = f\n",
    "            acc_dict['K : '+str(k)+' Alpha : '+str(al)] = a\n",
    "    \n",
    "    return f_dict,acc_dict"
   ]
  },
  {
   "cell_type": "code",
   "execution_count": null,
   "id": "1be58178",
   "metadata": {},
   "outputs": [],
   "source": []
  },
  {
   "cell_type": "code",
   "execution_count": 4,
   "id": "0bc5b814",
   "metadata": {},
   "outputs": [],
   "source": [
    "tweets = pd.read_csv('train.csv')"
   ]
  },
  {
   "cell_type": "code",
   "execution_count": 5,
   "id": "8730576d",
   "metadata": {},
   "outputs": [],
   "source": [
    "train = format_text(tweets,'text')\n",
    "X = train['text'].tolist()\n",
    "Y = train['target']"
   ]
  },
  {
   "cell_type": "code",
   "execution_count": 6,
   "id": "488161d6",
   "metadata": {},
   "outputs": [],
   "source": [
    "tfidf = TfidfVectorizer(sublinear_tf=True, min_df=5, norm='l2', encoding='latin-1', ngram_range=(1, 2), stop_words='english')\n",
    "features = tfidf.fit_transform(X).toarray()"
   ]
  },
  {
   "cell_type": "code",
   "execution_count": 7,
   "id": "2a8e2a26",
   "metadata": {},
   "outputs": [
    {
     "name": "stderr",
     "output_type": "stream",
     "text": [
      "  0%|          | 19/7613 [00:02<16:10,  7.82it/s]/Library/Frameworks/Python.framework/Versions/3.9/lib/python3.9/site-packages/vmdpy/vmdpy.py:105: RuntimeWarning: invalid value encountered in double_scalars\n",
      "  omega_plus[n+1,k] = np.dot(freqs[T//2:T],(abs(u_hat_plus[n+1, T//2:T, k])**2))/np.sum(abs(u_hat_plus[n+1,T//2:T,k])**2)\n",
      "/Library/Frameworks/Python.framework/Versions/3.9/lib/python3.9/site-packages/vmdpy/vmdpy.py:114: RuntimeWarning: invalid value encountered in double_scalars\n",
      "  omega_plus[n+1,k] = np.dot(freqs[T//2:T],(abs(u_hat_plus[n+1, T//2:T, k])**2))/np.sum(abs(u_hat_plus[n+1,T//2:T,k])**2)\n",
      "100%|██████████| 7613/7613 [15:40<00:00,  8.10it/s]\n"
     ]
    }
   ],
   "source": [
    "def vm(features):\n",
    "    X = np.zeros((features.shape[0],features.shape[1]))\n",
    "    for i in tqdm(prange(len(features))):\n",
    "        X[i]=maxvdm(features[i])\n",
    "    return X\n",
    "\n",
    "X_vmd = vm(features)"
   ]
  },
  {
   "cell_type": "code",
   "execution_count": 41,
   "id": "8ac5fcd7",
   "metadata": {},
   "outputs": [],
   "source": [
    "X_train, X_test, y_train, y_test = train_test_split(X_vmd, Y, test_size=0.25)"
   ]
  },
  {
   "cell_type": "code",
   "execution_count": 42,
   "id": "9c392876",
   "metadata": {},
   "outputs": [],
   "source": [
    "lr = LogisticRegression()\n",
    "lr.fit(X_train,y_train)\n",
    "y_pred = lr.predict(X_test)"
   ]
  },
  {
   "cell_type": "code",
   "execution_count": 43,
   "id": "7ae74ff9",
   "metadata": {},
   "outputs": [
    {
     "name": "stdout",
     "output_type": "stream",
     "text": [
      "              precision    recall  f1-score   support\n",
      "\n",
      "           0       0.75      0.92      0.83      1102\n",
      "           1       0.84      0.58      0.68       802\n",
      "\n",
      "    accuracy                           0.78      1904\n",
      "   macro avg       0.79      0.75      0.75      1904\n",
      "weighted avg       0.79      0.78      0.77      1904\n",
      "\n"
     ]
    }
   ],
   "source": [
    "print(classification_report(y_test, y_pred))"
   ]
  },
  {
   "cell_type": "code",
   "execution_count": 17,
   "id": "7d6f6792",
   "metadata": {},
   "outputs": [
    {
     "name": "stderr",
     "output_type": "stream",
     "text": [
      "Warning : `load_model` does not return WordVectorModel or SupervisedModel any more, but a `FastText` object which is very similar.\n"
     ]
    }
   ],
   "source": [
    "ft = fasttext.load_model('cc.en.300.bin')\n",
    "size = ft.get_dimension()\n",
    "corpus = []\n",
    "for i in X:\n",
    "    corpus.append(word_tokenize(i))\n",
    "X_fast = np.zeros((len(corpus),size)) #Initializing the X matrix with zeros\n",
    "for i in range(len(corpus)):\n",
    "    emb = np.zeros((1,size))\n",
    "    for w in corpus[i]:\n",
    "        emb = emb +  ft.get_word_vector(w)\n",
    "    X_fast[i] = emb"
   ]
  },
  {
   "cell_type": "code",
   "execution_count": 45,
   "id": "6d5d954a",
   "metadata": {},
   "outputs": [
    {
     "name": "stdout",
     "output_type": "stream",
     "text": [
      "              precision    recall  f1-score   support\n",
      "\n",
      "           0       0.80      0.83      0.81      1098\n",
      "           1       0.75      0.71      0.73       806\n",
      "\n",
      "    accuracy                           0.78      1904\n",
      "   macro avg       0.78      0.77      0.77      1904\n",
      "weighted avg       0.78      0.78      0.78      1904\n",
      "\n"
     ]
    },
    {
     "name": "stderr",
     "output_type": "stream",
     "text": [
      "/Library/Frameworks/Python.framework/Versions/3.9/lib/python3.9/site-packages/sklearn/linear_model/_logistic.py:762: ConvergenceWarning: lbfgs failed to converge (status=1):\n",
      "STOP: TOTAL NO. of ITERATIONS REACHED LIMIT.\n",
      "\n",
      "Increase the number of iterations (max_iter) or scale the data as shown in:\n",
      "    https://scikit-learn.org/stable/modules/preprocessing.html\n",
      "Please also refer to the documentation for alternative solver options:\n",
      "    https://scikit-learn.org/stable/modules/linear_model.html#logistic-regression\n",
      "  n_iter_i = _check_optimize_result(\n"
     ]
    }
   ],
   "source": [
    "X_train, X_test, y_train, y_test = train_test_split(X_fast, Y, test_size=0.25)\n",
    "lr = LogisticRegression()\n",
    "lr.fit(X_train,y_train)\n",
    "y_pred = lr.predict(X_test)\n",
    "print(classification_report(y_test, y_pred))"
   ]
  }
 ],
 "metadata": {
  "kernelspec": {
   "display_name": "Python 3.8.0 64-bit",
   "language": "python",
   "name": "python38064bit1060d4750c904259afeb7847dfa8ded2"
  },
  "language_info": {
   "codemirror_mode": {
    "name": "ipython",
    "version": 3
   },
   "file_extension": ".py",
   "mimetype": "text/x-python",
   "name": "python",
   "nbconvert_exporter": "python",
   "pygments_lexer": "ipython3",
   "version": "3.9.2"
  },
  "toc": {
   "base_numbering": 1,
   "nav_menu": {},
   "number_sections": false,
   "sideBar": false,
   "skip_h1_title": false,
   "title_cell": "Table of Contents",
   "title_sidebar": "Contents",
   "toc_cell": false,
   "toc_position": {},
   "toc_section_display": false,
   "toc_window_display": false
  }
 },
 "nbformat": 4,
 "nbformat_minor": 5
}
