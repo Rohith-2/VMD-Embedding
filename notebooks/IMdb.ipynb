{
 "cells": [
  {
   "cell_type": "code",
   "execution_count": 3,
   "id": "0ae9f46e",
   "metadata": {},
   "outputs": [],
   "source": [
    "import numpy as np\n",
    "import pandas as pd\n",
    "from nltk.tokenize import word_tokenize\n",
    "import os\n",
    "import scipy.signal\n",
    "import fasttext\n",
    "\n",
    "from nltk.tokenize import word_tokenize\n",
    "from sklearn.metrics import f1_score,accuracy_score\n",
    "from numba import jit, prange\n",
    "from tqdm import tqdm\n",
    "from vmdpy import VMD\n",
    "from sklearn.model_selection import train_test_split\n",
    "from sklearn.metrics import classification_report\n",
    "from sklearn.preprocessing import LabelEncoder\n",
    "from sklearn.model_selection import train_test_split\n",
    "from sklearn.linear_model import LogisticRegression\n",
    "from sklearn.ensemble import RandomForestClassifier\n",
    "from sklearn.neighbors import KNeighborsClassifier\n",
    "from sklearn.feature_extraction.text import TfidfVectorizer\n",
    "from sklearn.manifold import TSNE\n",
    "\n",
    "os.chdir('../')\n",
    "os.chdir('data/')"
   ]
  },
  {
   "cell_type": "code",
   "execution_count": 4,
   "id": "ccc9800c",
   "metadata": {
    "code_folding": [
     0,
     15,
     37
    ]
   },
   "outputs": [],
   "source": [
    "def format_text(df,col):\n",
    "      comp_df = df.copy()\n",
    "      # remove all the punctuation\n",
    "      comp_df[col] = comp_df[col].str.replace(r'(@\\w*)','')\n",
    "\n",
    "      #Remove all non-character\n",
    "      comp_df[col] = comp_df[col].str.replace(r\"[^a-zA-Z ]\",\"\")\n",
    "\n",
    "      # Remove extra space\n",
    "      comp_df[col] = comp_df[col].str.strip()\n",
    "\n",
    "      # Change to lowercase\n",
    "      comp_df[col] = comp_df[col].str.lower()\n",
    "      return comp_df\n",
    "\n",
    "def energy(u):\n",
    "# Estimate PSD `S_xx_welch` at discrete frequencies `f_welch`\n",
    "    f_welch, S_xx_welch = scipy.signal.welch(u)\n",
    "    # Integrate PSD over spectral bandwidth\n",
    "    # to obtain signal power `P_welch`\n",
    "    df_welch = f_welch[1] - f_welch[0]\n",
    "    return np.sum(S_xx_welch) * df_welch  \n",
    "\n",
    "def maxvdm(f):\n",
    "    alpha = 2     \n",
    "    tau = 0            \n",
    "    K = 3       \n",
    "    DC = 0             \n",
    "    init = 1           \n",
    "    tol = 1e-9\n",
    "    u, u_hat, omega = VMD(f, alpha, tau, K, DC, init, tol) \n",
    "    energy_array=[]\n",
    "    for i in u:\n",
    "        energy_array.append(energy(i))\n",
    "    ind = np.argmax(energy_array)\n",
    "    return u[ind]\n"
   ]
  },
  {
   "cell_type": "code",
   "execution_count": 12,
   "id": "e6beacb2",
   "metadata": {
    "code_folding": [
     0,
     13
    ]
   },
   "outputs": [],
   "source": [
    "def tune(f,alpha,K):   \n",
    "    tau = 0                 \n",
    "    DC = 0             \n",
    "    init = 1           \n",
    "    tol = 1e-9\n",
    "    u, u_hat, omega = VMD(f, alpha, tau, K, DC, init, tol) \n",
    "    energy_array=[]\n",
    "    for i in u:\n",
    "        energy_array.append(energy(i))\n",
    "    ind = np.argmax(energy_array)\n",
    "    return u[ind]\n",
    "\n",
    "@jit(parallel=True,forceobj=True)\n",
    "def tuning(features):\n",
    "    f_dict={}\n",
    "    acc_dict={}\n",
    "    for k in tqdm(prange(2,7)):\n",
    "        for al in prange(2,7):\n",
    "            X = []\n",
    "            for i in prange(len(features)):\n",
    "                X.append(tune(features[i],al,k))\n",
    "                \n",
    "            X_train, X_test, y_train, y_test = train_test_split(features, y, test_size=0.25)\n",
    "            \n",
    "            lr = LogisticRegression()\n",
    "            lr.fit(X_train,y_train)\n",
    "            y_pred = lr.predict(X_test)\n",
    "            \n",
    "            f = f1_score(y_test, y_pred)\n",
    "            a = accuracy_score(y_test, y_pred)\n",
    "            f_dict['K : '+str(k)+' Alpha : '+str(al)] = f\n",
    "            acc_dict['K : '+str(k)+' Alpha : '+str(al)] = a\n",
    "    \n",
    "    return f_dict,acc_dict"
   ]
  },
  {
   "cell_type": "markdown",
   "id": "c7d04248",
   "metadata": {},
   "source": [
    "## Loading IMdb Dataset:"
   ]
  },
  {
   "cell_type": "code",
   "execution_count": 6,
   "id": "23c9e6ab",
   "metadata": {},
   "outputs": [],
   "source": [
    "imdb_data = pd.read_csv('IMDB Dataset.csv')"
   ]
  },
  {
   "cell_type": "markdown",
   "id": "da463edf",
   "metadata": {},
   "source": [
    "A sample of 5k rows from 50k is taken randomly for primary analysis"
   ]
  },
  {
   "cell_type": "code",
   "execution_count": 7,
   "id": "4599114c",
   "metadata": {},
   "outputs": [
    {
     "name": "stderr",
     "output_type": "stream",
     "text": [
      "<ipython-input-4-c4424cc75027>:4: FutureWarning: The default value of regex will change from True to False in a future version.\n",
      "  comp_df[col] = comp_df[col].str.replace(r'(@\\w*)','')\n",
      "<ipython-input-4-c4424cc75027>:7: FutureWarning: The default value of regex will change from True to False in a future version.\n",
      "  comp_df[col] = comp_df[col].str.replace(r\"[^a-zA-Z ]\",\"\")\n"
     ]
    }
   ],
   "source": [
    "imdb_data_sam = imdb_data.sample(n=2000, replace=False)\n",
    "\n",
    "train = format_text(imdb_data_sam,'review')\n",
    "X = train['review'].tolist()\n",
    "Y = train['sentiment']"
   ]
  },
  {
   "cell_type": "code",
   "execution_count": 8,
   "id": "053f4449",
   "metadata": {},
   "outputs": [],
   "source": [
    "le = LabelEncoder()\n",
    "le.fit(Y)\n",
    "y = le.transform(Y)"
   ]
  },
  {
   "cell_type": "markdown",
   "id": "b7c03972",
   "metadata": {},
   "source": [
    "### TF-IDF Vectoriser"
   ]
  },
  {
   "cell_type": "code",
   "execution_count": 9,
   "id": "018646b0",
   "metadata": {},
   "outputs": [],
   "source": [
    "tfidf = TfidfVectorizer(sublinear_tf=True, min_df=5, norm='l2', encoding='latin-1', ngram_range=(1, 2), stop_words='english')\n",
    "features = tfidf.fit_transform(X).toarray()"
   ]
  },
  {
   "cell_type": "markdown",
   "id": "9d375b3a",
   "metadata": {},
   "source": [
    "#### Fine-Tuning Parameters for VMD Mode extraction"
   ]
  },
  {
   "cell_type": "code",
   "execution_count": 13,
   "id": "c0ac3b75",
   "metadata": {},
   "outputs": [
    {
     "name": "stderr",
     "output_type": "stream",
     "text": [
      "100%|███████████████████████████████████████████████████████████████████████████████████████████████████████████████████████| 5/5 [30:53:53<00:00, 22246.71s/it]\n"
     ]
    }
   ],
   "source": [
    "a,f = tuning(features)"
   ]
  },
  {
   "cell_type": "code",
   "execution_count": 16,
   "id": "fc66edd8",
   "metadata": {},
   "outputs": [],
   "source": [
    "import matplotlib.pyplot as plt"
   ]
  },
  {
   "cell_type": "code",
   "execution_count": 22,
   "id": "6d7235a6",
   "metadata": {},
   "outputs": [],
   "source": [
    "aVals = list(a.values())\n",
    "fVals = list(f.values())"
   ]
  },
  {
   "cell_type": "code",
   "execution_count": 25,
   "id": "33cc99a6",
   "metadata": {},
   "outputs": [
    {
     "data": {
      "text/plain": [
       "[<matplotlib.lines.Line2D at 0x21f9d9e2610>]"
      ]
     },
     "execution_count": 25,
     "metadata": {},
     "output_type": "execute_result"
    },
    {
     "data": {
      "image/png": "[encoded data removed]",
      "text/plain": [
       "<Figure size 432x288 with 1 Axes>"
      ]
     },
     "metadata": {
      "needs_background": "light"
     },
     "output_type": "display_data"
    }
   ],
   "source": [
    "plt.plot(aVals)"
   ]
  },
  {
   "cell_type": "code",
   "execution_count": 26,
   "id": "3709b7e6",
   "metadata": {},
   "outputs": [
    {
     "data": {
      "text/plain": [
       "[<matplotlib.lines.Line2D at 0x21f9da12310>]"
      ]
     },
     "execution_count": 26,
     "metadata": {},
     "output_type": "execute_result"
    },
    {
     "data": {
      "image/png": "[encoded data removed]",
      "text/plain": [
       "<Figure size 432x288 with 1 Axes>"
      ]
     },
     "metadata": {
      "needs_background": "light"
     },
     "output_type": "display_data"
    }
   ],
   "source": [
    "plt.plot(fVals)"
   ]
  },
  {
   "cell_type": "code",
   "execution_count": 14,
   "id": "1a805e78",
   "metadata": {},
   "outputs": [
    {
     "data": {
      "text/plain": [
       "{'K : 2 Alpha : 2': 0.8534322820037107,\n",
       " 'K : 2 Alpha : 3': 0.8326848249027237,\n",
       " 'K : 2 Alpha : 4': 0.847107438016529,\n",
       " 'K : 2 Alpha : 5': 0.8554455445544555,\n",
       " 'K : 2 Alpha : 6': 0.8727272727272728,\n",
       " 'K : 3 Alpha : 2': 0.8441814595660748,\n",
       " 'K : 3 Alpha : 3': 0.8444444444444444,\n",
       " 'K : 3 Alpha : 4': 0.8232931726907632,\n",
       " 'K : 3 Alpha : 5': 0.847870182555781,\n",
       " 'K : 3 Alpha : 6': 0.8659003831417624,\n",
       " 'K : 4 Alpha : 2': 0.8251473477406679,\n",
       " 'K : 4 Alpha : 3': 0.8355899419729208,\n",
       " 'K : 4 Alpha : 4': 0.8378378378378378,\n",
       " 'K : 4 Alpha : 5': 0.8466019417475729,\n",
       " 'K : 4 Alpha : 6': 0.841897233201581,\n",
       " 'K : 5 Alpha : 2': 0.8323232323232324,\n",
       " 'K : 5 Alpha : 3': 0.8537074148296594,\n",
       " 'K : 5 Alpha : 4': 0.823529411764706,\n",
       " 'K : 5 Alpha : 5': 0.8410852713178294,\n",
       " 'K : 5 Alpha : 6': 0.8237623762376238,\n",
       " 'K : 6 Alpha : 2': 0.8323471400394477,\n",
       " 'K : 6 Alpha : 3': 0.8499025341130605,\n",
       " 'K : 6 Alpha : 4': 0.8477842003853564,\n",
       " 'K : 6 Alpha : 5': 0.8387096774193549,\n",
       " 'K : 6 Alpha : 6': 0.8365758754863813}"
      ]
     },
     "execution_count": 14,
     "metadata": {},
     "output_type": "execute_result"
    }
   ],
   "source": [
    "a"
   ]
  },
  {
   "cell_type": "code",
   "execution_count": 15,
   "id": "460bf3d5",
   "metadata": {},
   "outputs": [
    {
     "data": {
      "text/plain": [
       "{'K : 2 Alpha : 2': 0.842,\n",
       " 'K : 2 Alpha : 3': 0.828,\n",
       " 'K : 2 Alpha : 4': 0.852,\n",
       " 'K : 2 Alpha : 5': 0.854,\n",
       " 'K : 2 Alpha : 6': 0.874,\n",
       " 'K : 3 Alpha : 2': 0.842,\n",
       " 'K : 3 Alpha : 3': 0.846,\n",
       " 'K : 3 Alpha : 4': 0.824,\n",
       " 'K : 3 Alpha : 5': 0.85,\n",
       " 'K : 3 Alpha : 6': 0.86,\n",
       " 'K : 4 Alpha : 2': 0.822,\n",
       " 'K : 4 Alpha : 3': 0.83,\n",
       " 'K : 4 Alpha : 4': 0.832,\n",
       " 'K : 4 Alpha : 5': 0.842,\n",
       " 'K : 4 Alpha : 6': 0.84,\n",
       " 'K : 5 Alpha : 2': 0.834,\n",
       " 'K : 5 Alpha : 3': 0.854,\n",
       " 'K : 5 Alpha : 4': 0.826,\n",
       " 'K : 5 Alpha : 5': 0.836,\n",
       " 'K : 5 Alpha : 6': 0.822,\n",
       " 'K : 6 Alpha : 2': 0.83,\n",
       " 'K : 6 Alpha : 3': 0.846,\n",
       " 'K : 6 Alpha : 4': 0.842,\n",
       " 'K : 6 Alpha : 5': 0.83,\n",
       " 'K : 6 Alpha : 6': 0.832}"
      ]
     },
     "execution_count": 15,
     "metadata": {},
     "output_type": "execute_result"
    }
   ],
   "source": [
    "f"
   ]
  },
  {
   "cell_type": "markdown",
   "id": "53194861",
   "metadata": {},
   "source": [
    "### Extracting VMD Modes"
   ]
  },
  {
   "cell_type": "code",
   "execution_count": null,
   "id": "c3861e7b",
   "metadata": {},
   "outputs": [
    {
     "name": "stderr",
     "output_type": "stream",
     "text": [
      " 44%|████▍     | 3110/7000 [3:14:57<4:11:04,  3.87s/it]"
     ]
    }
   ],
   "source": [
    "@jit(parallel=True,forceobj=True)\n",
    "def vm(features):\n",
    "    X = np.zeros((features.shape[0],features.shape[1]))\n",
    "    for i in tqdm(prange(len(features))):\n",
    "        X[i]=maxvdm(features[i])\n",
    "    return X\n",
    "\n",
    "X_vmd = vm(features)"
   ]
  },
  {
   "cell_type": "code",
   "execution_count": null,
   "id": "bb9726c7",
   "metadata": {},
   "outputs": [],
   "source": [
    "X_train, X_test, y_train, y_test = train_test_split(X_vmd, y, test_size=0.25)"
   ]
  },
  {
   "cell_type": "markdown",
   "id": "8aff6655",
   "metadata": {},
   "source": [
    "### Evaluating Model"
   ]
  },
  {
   "cell_type": "code",
   "execution_count": null,
   "id": "5f28f484",
   "metadata": {},
   "outputs": [],
   "source": [
    "lr = LogisticRegression()\n",
    "lr.fit(X_train,y_train)\n",
    "y_pred = lr.predict(X_test)"
   ]
  },
  {
   "cell_type": "code",
   "execution_count": null,
   "id": "e882490a",
   "metadata": {},
   "outputs": [],
   "source": [
    "print(classification_report(y_test, y_pred))"
   ]
  },
  {
   "cell_type": "markdown",
   "id": "ed4b3a39",
   "metadata": {},
   "source": [
    "## FastText Pre-Trained Model"
   ]
  },
  {
   "cell_type": "code",
   "execution_count": null,
   "id": "aa29f2df",
   "metadata": {},
   "outputs": [],
   "source": [
    "ft = fasttext.load_model('cc.en.300.bin')\n",
    "size = ft.get_dimension()\n",
    "corpus = []\n",
    "for i in X:\n",
    "    corpus.append(word_tokenize(i))"
   ]
  },
  {
   "cell_type": "code",
   "execution_count": null,
   "id": "41bd5467",
   "metadata": {},
   "outputs": [],
   "source": [
    "X_fast = np.zeros((len(corpus),size)) #Initializing the X matrix with zeros\n",
    "for i in range(len(corpus)):\n",
    "    emb = np.zeros((1,size))\n",
    "    for w in corpus[i]:\n",
    "        emb = emb +  ft.get_word_vector(w)\n",
    "    X_fast[i] = emb"
   ]
  },
  {
   "cell_type": "code",
   "execution_count": null,
   "id": "08294ee9",
   "metadata": {},
   "outputs": [],
   "source": [
    "X_train, X_test, y_train, y_test = train_test_split(X_fast, y, test_size=0.25)\n",
    "lr = LogisticRegression()\n",
    "lr.fit(X_train,y_train)\n",
    "y_pred = lr.predict(X_test)\n",
    "print(classification_report(y_test, y_pred))"
   ]
  },
  {
   "cell_type": "markdown",
   "id": "5855da4f",
   "metadata": {},
   "source": [
    "## t-SNE Plots for Semantic Relation-Analysis"
   ]
  },
  {
   "cell_type": "code",
   "execution_count": null,
   "id": "4de4cd41",
   "metadata": {},
   "outputs": [],
   "source": [
    "VMD_embedded = TSNE(n_components=2).fit_transform(X_vmd.T)\n",
    "fast = TSNE(n_components=2).fit_transform(X_fast)"
   ]
  },
  {
   "cell_type": "code",
   "execution_count": null,
   "id": "33a1f00c",
   "metadata": {},
   "outputs": [],
   "source": [
    "words = tfidf.get_feature_names()"
   ]
  },
  {
   "cell_type": "markdown",
   "id": "6d83484f",
   "metadata": {},
   "source": [
    "Randomdly selecting words in the VMD and fastText corpus to compare semantic"
   ]
  },
  {
   "cell_type": "code",
   "execution_count": null,
   "id": "80b638cd",
   "metadata": {},
   "outputs": [],
   "source": [
    "a = np.random.randint(300, size=10)"
   ]
  },
  {
   "cell_type": "code",
   "execution_count": null,
   "id": "7b0f0000",
   "metadata": {},
   "outputs": [],
   "source": [
    "plt.figure(figsize=(11,11))\n",
    "for i in a:\n",
    "    plt.scatter(VMD_embedded[i][0], VMD_embedded[i][1], c='red')\n",
    "    plt.annotate(words[i], VMD_embedded[i], xytext=None, xycoords='data', textcoords='data', arrowprops=None)\n",
    "    plt.title(\"TF-IDF_VMD\")\n",
    "plt.show()"
   ]
  },
  {
   "cell_type": "code",
   "execution_count": null,
   "id": "a1c07a6f",
   "metadata": {
    "scrolled": false
   },
   "outputs": [],
   "source": [
    "plt.figure(figsize=(11,11))\n",
    "for i in a:\n",
    "    plt.scatter(fast[i][0], fast[i][1], c='blue')\n",
    "    plt.annotate(words[i], fast[i], xytext=None, xycoords='data', textcoords='data', arrowprops=None)\n",
    "    plt.title(\"FastText\")\n",
    "plt.show()"
   ]
  }
 ],
 "metadata": {
  "kernelspec": {
   "display_name": "Python 3",
   "language": "python",
   "name": "python3"
  },
  "language_info": {
   "codemirror_mode": {
    "name": "ipython",
    "version": 3
   },
   "file_extension": ".py",
   "mimetype": "text/x-python",
   "name": "python",
   "nbconvert_exporter": "python",
   "pygments_lexer": "ipython3",
   "version": "3.9.1"
  },
  "toc": {
   "base_numbering": 1,
   "nav_menu": {},
   "number_sections": false,
   "sideBar": false,
   "skip_h1_title": false,
   "title_cell": "Table of Contents",
   "title_sidebar": "Contents",
   "toc_cell": false,
   "toc_position": {},
   "toc_section_display": false,
   "toc_window_display": false
  }
 },
 "nbformat": 4,
 "nbformat_minor": 5
}
