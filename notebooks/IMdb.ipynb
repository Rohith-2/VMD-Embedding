{
 "cells": [
  {
   "cell_type": "code",
   "execution_count": 1,
   "id": "d7ed94ae",
   "metadata": {},
   "outputs": [],
   "source": [
    "import numpy as np\n",
    "import pandas as pd\n",
    "from nltk.tokenize import word_tokenize\n",
    "import os\n",
    "import scipy.signal\n",
    "import fasttext\n",
    "\n",
    "from nltk.tokenize import word_tokenize\n",
    "from sklearn.metrics import f1_score,accuracy_score\n",
    "from numba import jit, prange\n",
    "from tqdm import tqdm\n",
    "from vmdpy import VMD\n",
    "from sklearn.model_selection import train_test_split\n",
    "from sklearn.metrics import classification_report\n",
    "from sklearn.preprocessing import LabelEncoder\n",
    "from sklearn.model_selection import train_test_split\n",
    "from sklearn.linear_model import LogisticRegression\n",
    "from sklearn.ensemble import RandomForestClassifier\n",
    "from sklearn.neighbors import KNeighborsClassifier\n",
    "from sklearn.feature_extraction.text import TfidfVectorizer\n",
    "from sklearn.manifold import TSNE\n",
    "\n",
    "os.chdir('../')\n",
    "os.chdir('data/')"
   ]
  },
  {
   "cell_type": "code",
   "execution_count": 2,
   "id": "3dc00170",
   "metadata": {
    "code_folding": [
     0,
     15
    ]
   },
   "outputs": [],
   "source": [
    "def format_text(df,col):\n",
    "      comp_df = df.copy()\n",
    "      # remove all the punctuation\n",
    "      comp_df[col] = comp_df[col].str.replace(r'(@\\w*)','')\n",
    "\n",
    "      #Remove all non-character\n",
    "      comp_df[col] = comp_df[col].str.replace(r\"[^a-zA-Z ]\",\"\")\n",
    "\n",
    "      # Remove extra space\n",
    "      comp_df[col] = comp_df[col].str.strip()\n",
    "\n",
    "      # Change to lowercase\n",
    "      comp_df[col] = comp_df[col].str.lower()\n",
    "      return comp_df\n",
    "\n",
    "def energy(u):\n",
    "# Estimate PSD `S_xx_welch` at discrete frequencies `f_welch`\n",
    "    f_welch, S_xx_welch = scipy.signal.welch(u)\n",
    "    # Integrate PSD over spectral bandwidth\n",
    "    # to obtain signal power `P_welch`\n",
    "    df_welch = f_welch[1] - f_welch[0]\n",
    "    return np.sum(S_xx_welch) * df_welch  \n",
    "\n",
    "def maxvdm(f):\n",
    "    alpha = 6     \n",
    "    tau = 0            \n",
    "    K = 2       \n",
    "    DC = 0             \n",
    "    init = 1           \n",
    "    tol = 1e-9\n",
    "    u, u_hat, omega = VMD(f, alpha, tau, K, DC, init, tol) \n",
    "    energy_array=[]\n",
    "    for i in u:\n",
    "        energy_array.append(energy(i))\n",
    "    ind = np.argmax(energy_array)\n",
    "    return u[ind]\n"
   ]
  },
  {
   "cell_type": "code",
   "execution_count": 3,
   "id": "b4fa13b0",
   "metadata": {
    "code_folding": []
   },
   "outputs": [],
   "source": [
    "def tune(f,alpha,K):   \n",
    "    tau = 0                 \n",
    "    DC = 0             \n",
    "    init = 1           \n",
    "    tol = 1e-9\n",
    "    u, u_hat, omega = VMD(f, alpha, tau, K, DC, init, tol) \n",
    "    energy_array=[]\n",
    "    for i in u:\n",
    "        energy_array.append(energy(i))\n",
    "    ind = np.argmax(energy_array)\n",
    "    return u[ind]\n",
    "\n",
    "@jit(parallel=True,forceobj=True)\n",
    "def tuning(features):\n",
    "    f_dict={}\n",
    "    acc_dict={}\n",
    "    for k in tqdm(prange(2,7)):\n",
    "        for al in prange(2,7):\n",
    "            X = []\n",
    "            for i in prange(len(features)):\n",
    "                X.append(tune(features[i],al,k))\n",
    "                \n",
    "            X_train, X_test, y_train, y_test = train_test_split(features, y, test_size=0.25)\n",
    "            \n",
    "            lr = LogisticRegression()\n",
    "            lr.fit(X_train,y_train)\n",
    "            y_pred = lr.predict(X_test)\n",
    "            \n",
    "            f = f1_score(y_test, y_pred)\n",
    "            a = accuracy_score(y_test, y_pred)\n",
    "            f_dict['K : '+str(k)+' Alpha : '+str(al)] = f\n",
    "            acc_dict['K : '+str(k)+' Alpha : '+str(al)] = a\n",
    "    \n",
    "    return f_dict,acc_dict"
   ]
  },
  {
   "cell_type": "markdown",
   "id": "8a371625",
   "metadata": {},
   "source": [
    "## Loading IMdb Dataset:"
   ]
  },
  {
   "cell_type": "code",
   "execution_count": 4,
   "id": "1388a1a7",
   "metadata": {},
   "outputs": [],
   "source": [
    "imdb_data = pd.read_csv('IMDB.csv')"
   ]
  },
  {
   "cell_type": "markdown",
   "id": "e12e13a3",
   "metadata": {},
   "source": [
    "A sample of 5k rows from 50k is taken randomly for primary analysis"
   ]
  },
  {
   "cell_type": "code",
   "execution_count": 5,
   "id": "b4fa07a2",
   "metadata": {},
   "outputs": [],
   "source": [
    "imdb_data_sam = imdb_data.sample(n=10000, replace=False)\n",
    "\n",
    "train = format_text(imdb_data_sam,'review')\n",
    "X = train['review'].tolist()\n",
    "Y = train['sentiment']"
   ]
  },
  {
   "cell_type": "code",
   "execution_count": 6,
   "id": "5998d201",
   "metadata": {},
   "outputs": [],
   "source": [
    "le = LabelEncoder()\n",
    "le.fit(Y)\n",
    "y = le.transform(Y)"
   ]
  },
  {
   "cell_type": "markdown",
   "id": "2e836cf0",
   "metadata": {},
   "source": [
    "### TF-IDF Vectoriser"
   ]
  },
  {
   "cell_type": "code",
   "execution_count": 7,
   "id": "80db706c",
   "metadata": {},
   "outputs": [],
   "source": [
    "tfidf = TfidfVectorizer(sublinear_tf=True, min_df=5, norm='l2', encoding='latin-1', ngram_range=(1, 2), stop_words='english')\n",
    "features = tfidf.fit_transform(X).toarray()"
   ]
  },
  {
   "cell_type": "code",
   "execution_count": 8,
   "id": "1f05a8d8",
   "metadata": {},
   "outputs": [],
   "source": [
    "del Y\n",
    "del imdb_data\n",
    "del train\n",
    "del imdb_data_sam"
   ]
  },
  {
   "cell_type": "markdown",
   "id": "eb2a09c1",
   "metadata": {},
   "source": [
    "#### Fine-Tuning Parameters for VMD Mode extraction"
   ]
  },
  {
   "cell_type": "code",
   "execution_count": 9,
   "id": "f79bb4b0",
   "metadata": {},
   "outputs": [],
   "source": [
    "#a,f = tuning(features)"
   ]
  },
  {
   "cell_type": "markdown",
   "id": "e8a83e01",
   "metadata": {},
   "source": [
    "### Extracting VMD Modes"
   ]
  },
  {
   "cell_type": "code",
   "execution_count": 10,
   "id": "7ab79871",
   "metadata": {},
   "outputs": [
    {
     "name": "stderr",
     "output_type": "stream",
     "text": [
      "100%|██████████| 10000/10000 [1:31:05<00:00,  1.83it/s]\n"
     ]
    }
   ],
   "source": [
    "@jit(parallel=True,forceobj=True)\n",
    "def vm(features):\n",
    "    X = []\n",
    "    for i in tqdm(features):\n",
    "        X.append(maxvdm(i))\n",
    "    return X\n",
    "\n",
    "X_vmd = np.array(vm(features))"
   ]
  },
  {
   "cell_type": "code",
   "execution_count": 11,
   "id": "08deb161",
   "metadata": {},
   "outputs": [],
   "source": [
    "X_train, X_test, y_train, y_test = train_test_split(X_vmd, y, test_size=0.25)"
   ]
  },
  {
   "cell_type": "markdown",
   "id": "a630766d",
   "metadata": {},
   "source": [
    "### Evaluating Model"
   ]
  },
  {
   "cell_type": "code",
   "execution_count": 12,
   "id": "f7c93d2f",
   "metadata": {},
   "outputs": [],
   "source": [
    "lr = LogisticRegression()\n",
    "lr.fit(X_train,y_train)\n",
    "y_pred = lr.predict(X_test)"
   ]
  },
  {
   "cell_type": "code",
   "execution_count": 13,
   "id": "d8d88f63",
   "metadata": {},
   "outputs": [
    {
     "name": "stdout",
     "output_type": "stream",
     "text": [
      "              precision    recall  f1-score   support\n",
      "\n",
      "           0       0.89      0.83      0.86      1235\n",
      "           1       0.84      0.90      0.87      1265\n",
      "\n",
      "    accuracy                           0.86      2500\n",
      "   macro avg       0.86      0.86      0.86      2500\n",
      "weighted avg       0.86      0.86      0.86      2500\n",
      "\n"
     ]
    }
   ],
   "source": [
    "print(classification_report(y_test, y_pred))"
   ]
  },
  {
   "cell_type": "markdown",
   "id": "6daf59ba",
   "metadata": {},
   "source": [
    "## FastText Pre-Trained Model"
   ]
  },
  {
   "cell_type": "code",
   "execution_count": 14,
   "id": "5834a21d",
   "metadata": {},
   "outputs": [
    {
     "name": "stderr",
     "output_type": "stream",
     "text": [
      "Warning : `load_model` does not return WordVectorModel or SupervisedModel any more, but a `FastText` object which is very similar.\n"
     ]
    }
   ],
   "source": [
    "ft = fasttext.load_model('cc.en.300.bin')\n",
    "size = ft.get_dimension()\n",
    "corpus = []\n",
    "for i in X:\n",
    "    corpus.append(word_tokenize(i))"
   ]
  },
  {
   "cell_type": "code",
   "execution_count": 15,
   "id": "404fd892",
   "metadata": {},
   "outputs": [],
   "source": [
    "X_fast = np.zeros((len(corpus),size)) #Initializing the X matrix with zeros\n",
    "for i in range(len(corpus)):\n",
    "    emb = np.zeros((1,size))\n",
    "    for w in corpus[i]:\n",
    "        emb = emb +  ft.get_word_vector(w)\n",
    "    X_fast[i] = emb"
   ]
  },
  {
   "cell_type": "code",
   "execution_count": 16,
   "id": "2a9df305",
   "metadata": {},
   "outputs": [
    {
     "name": "stdout",
     "output_type": "stream",
     "text": [
      "              precision    recall  f1-score   support\n",
      "\n",
      "           0       0.85      0.84      0.84      1279\n",
      "           1       0.83      0.84      0.84      1221\n",
      "\n",
      "    accuracy                           0.84      2500\n",
      "   macro avg       0.84      0.84      0.84      2500\n",
      "weighted avg       0.84      0.84      0.84      2500\n",
      "\n"
     ]
    },
    {
     "name": "stderr",
     "output_type": "stream",
     "text": [
      "/Library/Frameworks/Python.framework/Versions/3.9/lib/python3.9/site-packages/sklearn/linear_model/_logistic.py:762: ConvergenceWarning: lbfgs failed to converge (status=1):\n",
      "STOP: TOTAL NO. of ITERATIONS REACHED LIMIT.\n",
      "\n",
      "Increase the number of iterations (max_iter) or scale the data as shown in:\n",
      "    https://scikit-learn.org/stable/modules/preprocessing.html\n",
      "Please also refer to the documentation for alternative solver options:\n",
      "    https://scikit-learn.org/stable/modules/linear_model.html#logistic-regression\n",
      "  n_iter_i = _check_optimize_result(\n"
     ]
    }
   ],
   "source": [
    "X_train, X_test, y_train, y_test = train_test_split(X_fast, y, test_size=0.25)\n",
    "lr = LogisticRegression()\n",
    "lr.fit(X_train,y_train)\n",
    "y_pred = lr.predict(X_test)\n",
    "print(classification_report(y_test, y_pred))"
   ]
  },
  {
   "cell_type": "markdown",
   "id": "3c1adb32",
   "metadata": {},
   "source": [
    "## t-SNE Plots for Semantic Relation-Analysis"
   ]
  },
  {
   "cell_type": "code",
   "execution_count": null,
   "id": "758bf3ca",
   "metadata": {},
   "outputs": [],
   "source": [
    "VMD_embedded = TSNE(n_components=2).fit_transform((X_vmd).T)"
   ]
  },
  {
   "cell_type": "code",
   "execution_count": null,
   "id": "6c5d51a3",
   "metadata": {},
   "outputs": [],
   "source": [
    "words = tfidf.get_feature_names()"
   ]
  },
  {
   "cell_type": "markdown",
   "id": "da89301a",
   "metadata": {},
   "source": [
    "Randomdly selecting words in the VMD and fastText corpus to compare semantic"
   ]
  },
  {
   "cell_type": "code",
   "execution_count": null,
   "id": "e141d234",
   "metadata": {},
   "outputs": [],
   "source": [
    "a = np.random.randint(len(words), size=15)"
   ]
  },
  {
   "cell_type": "code",
   "execution_count": null,
   "id": "cd7855cd",
   "metadata": {},
   "outputs": [],
   "source": [
    "a = [12914,  5156,  8283, 10689,  3637, 19394, 12667, 11499,  7811,12035,   598,  4548, 13413,  5768, 12985]\n",
    "#a = [20973, 11912, 16622, 20096, 18483, 12464, 22025,  6267, 14180,11280, 23396,  5594, 15347, 20732, 13834]"
   ]
  },
  {
   "cell_type": "code",
   "execution_count": null,
   "id": "12260410",
   "metadata": {},
   "outputs": [],
   "source": [
    "word_vec=[]\n",
    "word = []\n",
    "for i in a:\n",
    "    word_vec.append(ft.get_word_vector(words[i]))\n",
    "    word.append(words[i])\n",
    "fast = TSNE(n_components=2).fit_transform(word_vec)"
   ]
  },
  {
   "cell_type": "code",
   "execution_count": null,
   "id": "8b20ed47",
   "metadata": {
    "scrolled": true
   },
   "outputs": [],
   "source": [
    "plt.figure(figsize=(11,11))\n",
    "for i in a:\n",
    "    plt.scatter(VMD_embedded[i][0], VMD_embedded[i][1], c='red')\n",
    "    plt.annotate(words[i], VMD_embedded[i], xytext=None, xycoords='data', textcoords='data', arrowprops=None)\n",
    "    plt.title(\"TF-IDF_VMD\")\n",
    "plt.show()"
   ]
  },
  {
   "cell_type": "code",
   "execution_count": null,
   "id": "953c80df",
   "metadata": {},
   "outputs": [],
   "source": [
    "plt.figure(figsize=(11,11))\n",
    "for i in range(len(fast)):\n",
    "    plt.scatter(fast[i][0], fast[i][1], c='blue')\n",
    "    plt.annotate(word[i], fast[i], xytext=None, xycoords='data', textcoords='data', arrowprops=None)\n",
    "    plt.title(\"FastText\")\n",
    "plt.show()"
   ]
  }
 ],
 "metadata": {
  "kernelspec": {
   "display_name": "Python 3.8.0 64-bit",
   "language": "python",
   "name": "python38064bit1060d4750c904259afeb7847dfa8ded2"
  },
  "language_info": {
   "codemirror_mode": {
    "name": "ipython",
    "version": 3
   },
   "file_extension": ".py",
   "mimetype": "text/x-python",
   "name": "python",
   "nbconvert_exporter": "python",
   "pygments_lexer": "ipython3",
   "version": "3.9.2"
  },
  "toc": {
   "base_numbering": 1,
   "nav_menu": {},
   "number_sections": false,
   "sideBar": false,
   "skip_h1_title": false,
   "title_cell": "Table of Contents",
   "title_sidebar": "Contents",
   "toc_cell": false,
   "toc_position": {},
   "toc_section_display": false,
   "toc_window_display": false
  }
 },
 "nbformat": 4,
 "nbformat_minor": 5
}
