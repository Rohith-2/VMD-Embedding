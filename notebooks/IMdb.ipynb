{
 "cells": [
  {
   "cell_type": "code",
   "execution_count": 1,
   "id": "0fa4cd0b",
   "metadata": {},
   "outputs": [],
   "source": [
    "import numpy as np\n",
    "import pandas as pd\n",
    "from nltk.tokenize import word_tokenize\n",
    "import os\n",
    "import scipy.signal\n",
    "import fasttext\n",
    "\n",
    "from nltk.tokenize import word_tokenize\n",
    "from sklearn.metrics import f1_score,accuracy_score\n",
    "from numba import jit, prange\n",
    "from tqdm import tqdm\n",
    "from vmdpy import VMD\n",
    "from sklearn.model_selection import train_test_split\n",
    "from sklearn.metrics import classification_report\n",
    "from sklearn.preprocessing import LabelEncoder\n",
    "from sklearn.model_selection import train_test_split\n",
    "from sklearn.linear_model import LogisticRegression\n",
    "from sklearn.ensemble import RandomForestClassifier\n",
    "from sklearn.neighbors import KNeighborsClassifier\n",
    "from sklearn.feature_extraction.text import TfidfVectorizer\n",
    "from sklearn.manifold import TSNE\n",
    "\n",
    "os.chdir('../')\n",
    "os.chdir('data/')"
   ]
  },
  {
   "cell_type": "code",
   "execution_count": 2,
   "id": "fd8e8ef2",
   "metadata": {
    "code_folding": [
     0,
     15,
     37
    ]
   },
   "outputs": [],
   "source": [
    "def format_text(df,col):\n",
    "      comp_df = df.copy()\n",
    "      # remove all the punctuation\n",
    "      comp_df[col] = comp_df[col].str.replace(r'(@\\w*)','')\n",
    "\n",
    "      #Remove all non-character\n",
    "      comp_df[col] = comp_df[col].str.replace(r\"[^a-zA-Z ]\",\"\")\n",
    "\n",
    "      # Remove extra space\n",
    "      comp_df[col] = comp_df[col].str.strip()\n",
    "\n",
    "      # Change to lowercase\n",
    "      comp_df[col] = comp_df[col].str.lower()\n",
    "      return comp_df\n",
    "\n",
    "def energy(u):\n",
    "# Estimate PSD `S_xx_welch` at discrete frequencies `f_welch`\n",
    "    f_welch, S_xx_welch = scipy.signal.welch(u)\n",
    "    # Integrate PSD over spectral bandwidth\n",
    "    # to obtain signal power `P_welch`\n",
    "    df_welch = f_welch[1] - f_welch[0]\n",
    "    return np.sum(S_xx_welch) * df_welch  \n",
    "\n",
    "def maxvdm(f):\n",
    "    alpha = 2     \n",
    "    tau = 0            \n",
    "    K = 3       \n",
    "    DC = 0             \n",
    "    init = 1           \n",
    "    tol = 1e-9\n",
    "    u, u_hat, omega = VMD(f, alpha, tau, K, DC, init, tol) \n",
    "    energy_array=[]\n",
    "    for i in u:\n",
    "        energy_array.append(energy(i))\n",
    "    ind = np.argmax(energy_array)\n",
    "    return u[ind]\n"
   ]
  },
  {
   "cell_type": "code",
   "execution_count": 3,
   "id": "34aebedd",
   "metadata": {
    "code_folding": []
   },
   "outputs": [],
   "source": [
    "def tune(f,alpha,K):   \n",
    "    tau = 0                 \n",
    "    DC = 0             \n",
    "    init = 1           \n",
    "    tol = 1e-9\n",
    "    u, u_hat, omega = VMD(f, alpha, tau, K, DC, init, tol) \n",
    "    energy_array=[]\n",
    "    for i in u:\n",
    "        energy_array.append(energy(i))\n",
    "    ind = np.argmax(energy_array)\n",
    "    return u[ind]\n",
    "\n",
    "@jit(parallel=True,forceobj=True)\n",
    "def tuning(features):\n",
    "    f_dict={}\n",
    "    acc_dict={}\n",
    "    for k in tqdm(prange(2,7)):\n",
    "        for al in prange(2,7):\n",
    "            X = []\n",
    "            for i in prange(len(features)):\n",
    "                X.append(tune(features[i],al,k))\n",
    "                \n",
    "            X_train, X_test, y_train, y_test = train_test_split(features, y, test_size=0.25)\n",
    "            \n",
    "            lr = LogisticRegression()\n",
    "            lr.fit(X_train,y_train)\n",
    "            y_pred = lr.predict(X_test)\n",
    "            \n",
    "            f = f1_score(y_test, y_pred)\n",
    "            a = accuracy_score(y_test, y_pred)\n",
    "            f_dict['K : '+str(k)+' Alpha : '+str(al)] = f\n",
    "            acc_dict['K : '+str(k)+' Alpha : '+str(al)] = a\n",
    "    \n",
    "    return f_dict,acc_dict"
   ]
  },
  {
   "cell_type": "markdown",
   "id": "58db7b23",
   "metadata": {},
   "source": [
    "## Loading IMdb Dataset:"
   ]
  },
  {
   "cell_type": "code",
   "execution_count": 4,
   "id": "4ea616b4",
   "metadata": {},
   "outputs": [],
   "source": [
    "imdb_data = pd.read_csv('IMDB.csv')"
   ]
  },
  {
   "cell_type": "markdown",
   "id": "c846db4d",
   "metadata": {},
   "source": [
    "A sample of 5k rows from 50k is taken randomly for primary analysis"
   ]
  },
  {
   "cell_type": "code",
   "execution_count": 5,
   "id": "2b1499e6",
   "metadata": {},
   "outputs": [],
   "source": [
    "imdb_data_sam = imdb_data.sample(n=7000, replace=False)\n",
    "\n",
    "train = format_text(imdb_data_sam,'review')\n",
    "X = train['review'].tolist()\n",
    "Y = train['sentiment']"
   ]
  },
  {
   "cell_type": "code",
   "execution_count": 6,
   "id": "cb3b7cbc",
   "metadata": {},
   "outputs": [],
   "source": [
    "le = LabelEncoder()\n",
    "le.fit(Y)\n",
    "y = le.transform(Y)"
   ]
  },
  {
   "cell_type": "markdown",
   "id": "69855b28",
   "metadata": {},
   "source": [
    "### TF-IDF Vectoriser"
   ]
  },
  {
   "cell_type": "code",
   "execution_count": 7,
   "id": "48e5b6a2",
   "metadata": {},
   "outputs": [],
   "source": [
    "tfidf = TfidfVectorizer(sublinear_tf=True, min_df=5, norm='l2', encoding='latin-1', ngram_range=(1, 2), stop_words='english')\n",
    "features = tfidf.fit_transform(X).toarray()"
   ]
  },
  {
   "cell_type": "markdown",
   "id": "7245c4aa",
   "metadata": {},
   "source": [
    "#### Fine-Tuning Parameters for VMD Mode extraction"
   ]
  },
  {
   "cell_type": "code",
   "execution_count": 8,
   "id": "6a60f9f1",
   "metadata": {},
   "outputs": [],
   "source": [
    "a,f = tuning(features)"
   ]
  },
  {
   "cell_type": "markdown",
   "id": "9e24acb9",
   "metadata": {},
   "source": [
    "### Extracting VMD Modes"
   ]
  },
  {
   "cell_type": "code",
   "execution_count": null,
   "id": "6f7d5487",
   "metadata": {},
   "outputs": [
    {
     "name": "stderr",
     "output_type": "stream",
     "text": [
      " 59%|█████▉    | 4119/7000 [4:17:54<3:00:29,  3.76s/it]"
     ]
    }
   ],
   "source": [
    "@jit(parallel=True,forceobj=True)\n",
    "def vm(features):\n",
    "    X = np.zeros((features.shape[0],features.shape[1]))\n",
    "    for i in tqdm(prange(len(features))):\n",
    "        X[i]=maxvdm(features[i])\n",
    "    return X\n",
    "\n",
    "X_vmd = vm(features)"
   ]
  },
  {
   "cell_type": "code",
   "execution_count": null,
   "id": "17bafc33",
   "metadata": {},
   "outputs": [],
   "source": [
    "X_train, X_test, y_train, y_test = train_test_split(X_vmd, y, test_size=0.25)"
   ]
  },
  {
   "cell_type": "markdown",
   "id": "11965286",
   "metadata": {},
   "source": [
    "### Evaluating Model"
   ]
  },
  {
   "cell_type": "code",
   "execution_count": null,
   "id": "f67c7741",
   "metadata": {},
   "outputs": [],
   "source": [
    "lr = LogisticRegression()\n",
    "lr.fit(X_train,y_train)\n",
    "y_pred = lr.predict(X_test)"
   ]
  },
  {
   "cell_type": "code",
   "execution_count": null,
   "id": "320c6bdf",
   "metadata": {},
   "outputs": [],
   "source": [
    "print(classification_report(y_test, y_pred))"
   ]
  },
  {
   "cell_type": "markdown",
   "id": "461d3573",
   "metadata": {},
   "source": [
    "## FastText Pre-Trained Model"
   ]
  },
  {
   "cell_type": "code",
   "execution_count": null,
   "id": "5b0dfab7",
   "metadata": {},
   "outputs": [],
   "source": [
    "ft = fasttext.load_model('cc.en.300.bin')\n",
    "size = ft.get_dimension()\n",
    "corpus = []\n",
    "for i in X:\n",
    "    corpus.append(word_tokenize(i))"
   ]
  },
  {
   "cell_type": "code",
   "execution_count": null,
   "id": "eb106ff7",
   "metadata": {},
   "outputs": [],
   "source": [
    "X_fast = np.zeros((len(corpus),size)) #Initializing the X matrix with zeros\n",
    "for i in range(len(corpus)):\n",
    "    emb = np.zeros((1,size))\n",
    "    for w in corpus[i]:\n",
    "        emb = emb +  ft.get_word_vector(w)\n",
    "    X_fast[i] = emb"
   ]
  },
  {
   "cell_type": "code",
   "execution_count": null,
   "id": "30df5024",
   "metadata": {},
   "outputs": [],
   "source": [
    "X_train, X_test, y_train, y_test = train_test_split(X_fast, y, test_size=0.25)\n",
    "lr = LogisticRegression()\n",
    "lr.fit(X_train,y_train)\n",
    "y_pred = lr.predict(X_test)\n",
    "print(classification_report(y_test, y_pred))"
   ]
  },
  {
   "cell_type": "markdown",
   "id": "38875587",
   "metadata": {},
   "source": [
    "## t-SNE Plots for Semantic Relation-Analysis"
   ]
  },
  {
   "cell_type": "code",
   "execution_count": null,
   "id": "bbb0f12e",
   "metadata": {},
   "outputs": [],
   "source": [
    "VMD_embedded = TSNE(n_components=2).fit_transform(X_vmd.T)\n",
    "fast = TSNE(n_components=2).fit_transform(X_fast)"
   ]
  },
  {
   "cell_type": "code",
   "execution_count": null,
   "id": "6dd7b16c",
   "metadata": {},
   "outputs": [],
   "source": [
    "words = tfidf.get_feature_names()"
   ]
  },
  {
   "cell_type": "markdown",
   "id": "289d1987",
   "metadata": {},
   "source": [
    "Randomdly selecting words in the VMD and fastText corpus to compare semantic"
   ]
  },
  {
   "cell_type": "code",
   "execution_count": null,
   "id": "308138bc",
   "metadata": {},
   "outputs": [],
   "source": [
    "a = np.random.randint(300, size=10)"
   ]
  },
  {
   "cell_type": "code",
   "execution_count": null,
   "id": "49c4bfb8",
   "metadata": {},
   "outputs": [],
   "source": [
    "plt.figure(figsize=(11,11))\n",
    "for i in a:\n",
    "    plt.scatter(VMD_embedded[i][0], VMD_embedded[i][1], c='red')\n",
    "    plt.annotate(words[i], VMD_embedded[i], xytext=None, xycoords='data', textcoords='data', arrowprops=None)\n",
    "    plt.title(\"TF-IDF_VMD\")\n",
    "plt.show()"
   ]
  },
  {
   "cell_type": "code",
   "execution_count": null,
   "id": "85e61438",
   "metadata": {
    "scrolled": false
   },
   "outputs": [],
   "source": [
    "plt.figure(figsize=(11,11))\n",
    "for i in a:\n",
    "    plt.scatter(fast[i][0], fast[i][1], c='blue')\n",
    "    plt.annotate(words[i], fast[i], xytext=None, xycoords='data', textcoords='data', arrowprops=None)\n",
    "    plt.title(\"FastText\")\n",
    "plt.show()"
   ]
  }
 ],
 "metadata": {
  "kernelspec": {
   "display_name": "Python 3.8.0 64-bit",
   "language": "python",
   "name": "python38064bit1060d4750c904259afeb7847dfa8ded2"
  },
  "language_info": {
   "codemirror_mode": {
    "name": "ipython",
    "version": 3
   },
   "file_extension": ".py",
   "mimetype": "text/x-python",
   "name": "python",
   "nbconvert_exporter": "python",
   "pygments_lexer": "ipython3",
   "version": "3.9.2"
  },
  "toc": {
   "base_numbering": 1,
   "nav_menu": {},
   "number_sections": false,
   "sideBar": false,
   "skip_h1_title": false,
   "title_cell": "Table of Contents",
   "title_sidebar": "Contents",
   "toc_cell": false,
   "toc_position": {},
   "toc_section_display": false,
   "toc_window_display": false
  }
 },
 "nbformat": 4,
 "nbformat_minor": 5
}
