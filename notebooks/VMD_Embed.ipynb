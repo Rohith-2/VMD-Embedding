{
 "cells": [
  {
   "cell_type": "code",
   "execution_count": 1,
   "id": "c10704f8",
   "metadata": {},
   "outputs": [],
   "source": [
    "import fasttext\n",
    "import numpy as np\n",
    "import pandas as pd\n",
    "from nltk.tokenize import word_tokenize\n",
    "import fasttext.util\n",
    "import os\n",
    "import scipy.signal\n",
    "\n",
    "from sklearn.metrics import classification_report\n",
    "from tqdm import tqdm\n",
    "from vmdpy import VMD\n",
    "from sklearn.preprocessing import LabelEncoder\n",
    "from sklearn.model_selection import train_test_split\n",
    "from sklearn.linear_model import LogisticRegression\n",
    "from sklearn.ensemble import RandomForestClassifier\n",
    "from sklearn.neighbors import KNeighborsClassifier\n",
    "from sklearn.feature_extraction.text import TfidfVectorizer\n",
    "\n",
    "os.chdir('../')\n",
    "os.chdir('data/')"
   ]
  },
  {
   "cell_type": "markdown",
   "id": "20bd66c7",
   "metadata": {},
   "source": [
    "## Functions needed for execution"
   ]
  },
  {
   "cell_type": "markdown",
   "id": "4d930db7",
   "metadata": {},
   "source": [
    "format_text() takes the dataframe and the column index which contains the text that needs to be cleaned, in this case the cleaning process was focussed for Tweets which include removal of special charactors, links and numbers."
   ]
  },
  {
   "cell_type": "code",
   "execution_count": 2,
   "id": "d81bf78d",
   "metadata": {},
   "outputs": [],
   "source": [
    "def format_text(df,col):\n",
    "      #Remove @ tags\n",
    "      comp_df = df.copy()\n",
    "\n",
    "      # remove all the punctuation\n",
    "      comp_df[col] = comp_df[col].str.replace(r'(@\\w*)','')\n",
    "\n",
    "      #Remove URL\n",
    "      comp_df[col] = comp_df[col].str.replace(r\"http\\S+\", \"\")\n",
    "\n",
    "      #Remove # tag and the following words\n",
    "      comp_df[col] = comp_df[col].str.replace(r'#\\w+',\"\")\n",
    "\n",
    "      #Remove all non-character\n",
    "      comp_df[col] = comp_df[col].str.replace(r\"[^a-zA-Z ]\",\"\")\n",
    "\n",
    "      # Remove extra space\n",
    "      comp_df[col] = comp_df[col].str.replace(r'( +)',\" \")\n",
    "      comp_df[col] = comp_df[col].str.strip()\n",
    "\n",
    "      # Change to lowercase\n",
    "      comp_df[col] = comp_df[col].str.lower()\n",
    "      comp_df[col] = comp_df[col].str.replace('httpurl', '')\n",
    "      return comp_df"
   ]
  },
  {
   "cell_type": "markdown",
   "id": "b1834328",
   "metadata": {},
   "source": [
    "From the given modes, using the SciPy package the mode containing the maximum energy will be selected."
   ]
  },
  {
   "cell_type": "code",
   "execution_count": 3,
   "id": "82f17ab1",
   "metadata": {},
   "outputs": [],
   "source": [
    "def energy(u):\n",
    "# Estimate PSD `S_xx_welch` at discrete frequencies `f_welch`\n",
    "    f_welch, S_xx_welch = scipy.signal.welch(u)\n",
    "    # Integrate PSD over spectral bandwidth\n",
    "    # to obtain signal power `P_welch`\n",
    "    df_welch = f_welch[1] - f_welch[0]\n",
    "    return np.sum(S_xx_welch) * df_welch"
   ]
  },
  {
   "cell_type": "code",
   "execution_count": 4,
   "id": "b5c05618",
   "metadata": {},
   "outputs": [],
   "source": [
    "def maxvdm(f):\n",
    "    alpha = 2     \n",
    "    tau = 0.            \n",
    "    K = 2       \n",
    "    DC = 0             \n",
    "    init = 1           \n",
    "    tol = 1e-8\n",
    "    u, u_hat, omega = VMD(f, alpha, tau, K, DC, init, tol) \n",
    "    energy_array=[]\n",
    "    for i in u:\n",
    "        energy_array.append(energy(i))\n",
    "    ind = np.argmax(energy_array)\n",
    "    return u[ind]"
   ]
  },
  {
   "cell_type": "markdown",
   "id": "fdac9e04",
   "metadata": {},
   "source": [
    "## Training Data:"
   ]
  },
  {
   "cell_type": "markdown",
   "id": "787989d9",
   "metadata": {},
   "source": [
    "Loading and Pre-Processing the Tweets Data"
   ]
  },
  {
   "cell_type": "code",
   "execution_count": 5,
   "id": "48ef089f",
   "metadata": {},
   "outputs": [],
   "source": [
    "train = pd.read_csv('train.tsv',sep='\\t')"
   ]
  },
  {
   "cell_type": "code",
   "execution_count": 6,
   "id": "2217a258",
   "metadata": {},
   "outputs": [],
   "source": [
    "train = format_text(train,'Text')\n",
    "X = train['Text'].tolist()\n",
    "Y_train = train['Label']"
   ]
  },
  {
   "cell_type": "markdown",
   "id": "5273915b",
   "metadata": {},
   "source": [
    "Converting String Labels into Numeric Values with LabelEncoder"
   ]
  },
  {
   "cell_type": "code",
   "execution_count": 7,
   "id": "db5bb027",
   "metadata": {},
   "outputs": [],
   "source": [
    "le = LabelEncoder()\n",
    "le.fit(Y_train)\n",
    "Y_train = le.transform(Y_train)"
   ]
  },
  {
   "cell_type": "markdown",
   "id": "7d4d90ae",
   "metadata": {},
   "source": [
    "Computing the TF-IDF vectors from the given corpus of training data"
   ]
  },
  {
   "cell_type": "code",
   "execution_count": 8,
   "id": "b6091245",
   "metadata": {},
   "outputs": [],
   "source": [
    "tfidf = TfidfVectorizer(sublinear_tf=True, min_df=5, norm='l2', encoding='latin-1', ngram_range=(1, 2), stop_words='english')\n",
    "features = tfidf.fit_transform(X).toarray()"
   ]
  },
  {
   "cell_type": "markdown",
   "id": "8ca5b2a7",
   "metadata": {},
   "source": [
    "From the functions section, the maxvdm() which extracts K modes and returns the mode with the highest energy is called on every line."
   ]
  },
  {
   "cell_type": "code",
   "execution_count": 9,
   "id": "1b55a4ca",
   "metadata": {},
   "outputs": [
    {
     "name": "stderr",
     "output_type": "stream",
     "text": [
      "100%|██████████| 6936/6936 [14:15<00:00,  8.10it/s]\n"
     ]
    }
   ],
   "source": [
    "X_data = [maxvdm(i) for i in tqdm(features)]"
   ]
  },
  {
   "cell_type": "code",
   "execution_count": 10,
   "id": "b89ff8fc",
   "metadata": {},
   "outputs": [],
   "source": [
    "df = pd.DataFrame(X_data)\n",
    "df['l'] = Y_train"
   ]
  },
  {
   "cell_type": "markdown",
   "id": "687f4558",
   "metadata": {},
   "source": [
    "## Testing Data:"
   ]
  },
  {
   "cell_type": "markdown",
   "id": "ed68cba0",
   "metadata": {},
   "source": [
    "The process of testing is similar to the above-mentioned training method, the same object tfidf and labelencoder must be called."
   ]
  },
  {
   "cell_type": "code",
   "execution_count": 11,
   "id": "4e85fb56",
   "metadata": {},
   "outputs": [],
   "source": [
    "test = pd.read_csv('test.tsv',sep='\\t',header=None)\n",
    "test = format_text(test,1)\n",
    "X_test = test[1].tolist()\n",
    "Y_test = le.transform(test[2])"
   ]
  },
  {
   "cell_type": "code",
   "execution_count": 12,
   "id": "60c13f6c",
   "metadata": {},
   "outputs": [
    {
     "name": "stderr",
     "output_type": "stream",
     "text": [
      "100%|██████████| 2000/2000 [04:00<00:00,  8.31it/s]\n"
     ]
    }
   ],
   "source": [
    "features_test = tfidf.transform(X_test).toarray()\n",
    "X_test = [maxvdm(i) for i in tqdm(features_test)]"
   ]
  },
  {
   "cell_type": "markdown",
   "id": "cf51069f",
   "metadata": {},
   "source": [
    "## Evaluating Model Performance:"
   ]
  },
  {
   "cell_type": "code",
   "execution_count": 13,
   "id": "1f2e7fe1",
   "metadata": {},
   "outputs": [
    {
     "data": {
      "text/plain": [
       "LogisticRegression(random_state=0)"
      ]
     },
     "execution_count": 13,
     "metadata": {},
     "output_type": "execute_result"
    }
   ],
   "source": [
    "lr = LogisticRegression(random_state=0)\n",
    "lr.fit(features,Y_train)"
   ]
  },
  {
   "cell_type": "code",
   "execution_count": 16,
   "id": "1b07fb0c",
   "metadata": {},
   "outputs": [],
   "source": [
    "y_pred = lr.predict(X_test)"
   ]
  },
  {
   "cell_type": "code",
   "execution_count": 17,
   "id": "0b9d4da3",
   "metadata": {},
   "outputs": [
    {
     "name": "stdout",
     "output_type": "stream",
     "text": [
      "              precision    recall  f1-score   support\n",
      "\n",
      "           0       0.88      0.28      0.42       944\n",
      "           1       0.60      0.97      0.74      1056\n",
      "\n",
      "    accuracy                           0.64      2000\n",
      "   macro avg       0.74      0.62      0.58      2000\n",
      "weighted avg       0.73      0.64      0.59      2000\n",
      "\n"
     ]
    }
   ],
   "source": [
    "print(classification_report(Y_test, y_pred))"
   ]
  },
  {
   "cell_type": "code",
   "execution_count": null,
   "id": "3085a162",
   "metadata": {},
   "outputs": [],
   "source": []
  }
 ],
 "metadata": {
  "kernelspec": {
   "display_name": "Python 3.8.0 64-bit",
   "language": "python",
   "name": "python38064bit1060d4750c904259afeb7847dfa8ded2"
  },
  "language_info": {
   "codemirror_mode": {
    "name": "ipython",
    "version": 3
   },
   "file_extension": ".py",
   "mimetype": "text/x-python",
   "name": "python",
   "nbconvert_exporter": "python",
   "pygments_lexer": "ipython3",
   "version": "3.9.2"
  },
  "toc": {
   "base_numbering": 1,
   "nav_menu": {},
   "number_sections": false,
   "sideBar": false,
   "skip_h1_title": false,
   "title_cell": "Table of Contents",
   "title_sidebar": "Contents",
   "toc_cell": false,
   "toc_position": {},
   "toc_section_display": false,
   "toc_window_display": false
  }
 },
 "nbformat": 4,
 "nbformat_minor": 5
}
