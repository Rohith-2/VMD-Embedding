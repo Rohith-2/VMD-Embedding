{
  "nbformat": 4,
  "nbformat_minor": 5,
  "metadata": {
    "kernelspec": {
      "display_name": "Python 3.8.0 64-bit",
      "language": "python",
      "name": "python38064bit1060d4750c904259afeb7847dfa8ded2"
    },
    "language_info": {
      "codemirror_mode": {
        "name": "ipython",
        "version": 3
      },
      "file_extension": ".py",
      "mimetype": "text/x-python",
      "name": "python",
      "nbconvert_exporter": "python",
      "pygments_lexer": "ipython3",
      "version": "3.9.2"
    },
    "toc": {
      "base_numbering": 1,
      "nav_menu": {},
      "number_sections": false,
      "sideBar": false,
      "skip_h1_title": false,
      "title_cell": "Table of Contents",
      "title_sidebar": "Contents",
      "toc_cell": false,
      "toc_position": {},
      "toc_section_display": false,
      "toc_window_display": false
    },
    "colab": {
      "name": "VMD_Embed.ipynb",
      "provenance": [],
      "collapsed_sections": []
    },
    "accelerator": "GPU"
  },
  "cells": [
    {
      "cell_type": "code",
      "metadata": {
        "id": "c10704f8"
      },
      "source": [
        "import numpy as np\n",
        "import pandas as pd\n",
        "from nltk.tokenize import word_tokenize\n",
        "import os\n",
        "import scipy.signal\n",
        "import asyncio\n",
        "import numba as nb\n",
        "\n",
        "from joblib import Parallel, delayed\n",
        "from sklearn.metrics import classification_report\n",
        "from tqdm import tqdm\n",
        "from vmdpy import VMD\n",
        "from sklearn.preprocessing import LabelEncoder\n",
        "from sklearn.model_selection import train_test_split\n",
        "from sklearn.linear_model import LogisticRegression\n",
        "from sklearn.ensemble import RandomForestClassifier\n",
        "from sklearn.neighbors import KNeighborsClassifier\n",
        "from sklearn.feature_extraction.text import TfidfVectorizer"
      ],
      "id": "c10704f8",
      "execution_count": 21,
      "outputs": []
    },
    {
      "cell_type": "markdown",
      "metadata": {
        "id": "20bd66c7"
      },
      "source": [
        "## Functions needed for execution"
      ],
      "id": "20bd66c7"
    },
    {
      "cell_type": "markdown",
      "metadata": {
        "id": "4d930db7"
      },
      "source": [
        "format_text() takes the dataframe and the column index which contains the text that needs to be cleaned, in this case the cleaning process was focussed for Tweets which include removal of special charactors, links and numbers."
      ],
      "id": "4d930db7"
    },
    {
      "cell_type": "code",
      "metadata": {
        "id": "d81bf78d"
      },
      "source": [
        "def format_text(df,col):\n",
        "      #Remove @ tags\n",
        "      comp_df = df.copy()\n",
        "\n",
        "      # remove all the punctuation\n",
        "      comp_df[col] = comp_df[col].str.replace(r'(@\\w*)','')\n",
        "\n",
        "      #Remove URL\n",
        "      comp_df[col] = comp_df[col].str.replace(r\"http\\S+\", \"\")\n",
        "\n",
        "      #Remove # tag \n",
        "      comp_df[col] = comp_df[col].str.replace('#',\"\")\n",
        "\n",
        "      #Remove all non-character\n",
        "      comp_df[col] = comp_df[col].str.replace(r\"[^a-zA-Z ]\",\"\")\n",
        "\n",
        "      # Remove extra space\n",
        "      comp_df[col] = comp_df[col].str.replace(r'( +)',\" \")\n",
        "      comp_df[col] = comp_df[col].str.strip()\n",
        "\n",
        "      # Change to lowercase\n",
        "      comp_df[col] = comp_df[col].str.lower()\n",
        "      comp_df[col] = comp_df[col].str.replace('httpurl', '')\n",
        "      return comp_df"
      ],
      "id": "d81bf78d",
      "execution_count": 22,
      "outputs": []
    },
    {
      "cell_type": "markdown",
      "metadata": {
        "id": "b1834328"
      },
      "source": [
        "From the given modes, using the SciPy package the mode containing the maximum energy will be selected."
      ],
      "id": "b1834328"
    },
    {
      "cell_type": "code",
      "metadata": {
        "id": "82f17ab1"
      },
      "source": [
        "def energy(u):\n",
        "# Estimate PSD `S_xx_welch` at discrete frequencies `f_welch`\n",
        "    f_welch, S_xx_welch = scipy.signal.welch(u)\n",
        "    # Integrate PSD over spectral bandwidth\n",
        "    # to obtain signal power `P_welch`\n",
        "    df_welch = f_welch[1] - f_welch[0]\n",
        "    return np.sum(S_xx_welch) * df_welch"
      ],
      "id": "82f17ab1",
      "execution_count": 23,
      "outputs": []
    },
    {
      "cell_type": "code",
      "metadata": {
        "id": "b5c05618"
      },
      "source": [
        "def maxvdm(f):\n",
        "    alpha = 3     \n",
        "    tau = 0            \n",
        "    K = 2       \n",
        "    DC = 0             \n",
        "    init = 1           \n",
        "    tol = 1e-8\n",
        "    u, u_hat, omega = VMD(f, alpha, tau, K, DC, init, tol) \n",
        "    energy_array=[]\n",
        "    for i in u:\n",
        "        energy_array.append(energy(i))\n",
        "    ind = np.argmax(energy_array)\n",
        "    return u[ind]\n",
        "\n",
        "\n",
        "def extract(features):\n",
        "  X = []\n",
        "  for i in features:\n",
        "    X.append(maxvdm(i))\n",
        "  return X"
      ],
      "id": "b5c05618",
      "execution_count": 24,
      "outputs": []
    },
    {
      "cell_type": "markdown",
      "metadata": {
        "id": "fdac9e04"
      },
      "source": [
        "## Training Data:"
      ],
      "id": "fdac9e04"
    },
    {
      "cell_type": "markdown",
      "metadata": {
        "id": "787989d9"
      },
      "source": [
        "Loading and Pre-Processing the Tweets Data"
      ],
      "id": "787989d9"
    },
    {
      "cell_type": "code",
      "metadata": {
        "id": "48ef089f"
      },
      "source": [
        "train = pd.read_csv('train.tsv',sep='\\t')"
      ],
      "id": "48ef089f",
      "execution_count": 25,
      "outputs": []
    },
    {
      "cell_type": "code",
      "metadata": {
        "colab": {
          "base_uri": "https://localhost:8080/"
        },
        "id": "txhVohfnGiNe",
        "outputId": "86cd43f4-fc87-4c3e-8d0e-b6d4464a59d2"
      },
      "source": [
        "os.listdir()"
      ],
      "id": "txhVohfnGiNe",
      "execution_count": 26,
      "outputs": [
        {
          "output_type": "execute_result",
          "data": {
            "text/plain": [
              "['.config', 'test.tsv', 'train.tsv', 'sample_data']"
            ]
          },
          "metadata": {
            "tags": []
          },
          "execution_count": 26
        }
      ]
    },
    {
      "cell_type": "code",
      "metadata": {
        "id": "2217a258"
      },
      "source": [
        "train = format_text(train,'Text')\n",
        "X = train['Text'].tolist()\n",
        "Y_train = train['Label']"
      ],
      "id": "2217a258",
      "execution_count": 27,
      "outputs": []
    },
    {
      "cell_type": "markdown",
      "metadata": {
        "id": "5273915b"
      },
      "source": [
        "Converting String Labels into Numeric Values with LabelEncoder"
      ],
      "id": "5273915b"
    },
    {
      "cell_type": "code",
      "metadata": {
        "id": "db5bb027"
      },
      "source": [
        "le = LabelEncoder()\n",
        "le.fit(Y_train)\n",
        "Y_train = le.transform(Y_train)"
      ],
      "id": "db5bb027",
      "execution_count": 28,
      "outputs": []
    },
    {
      "cell_type": "markdown",
      "metadata": {
        "id": "7d4d90ae"
      },
      "source": [
        "Computing the TF-IDF vectors from the given corpus of training data"
      ],
      "id": "7d4d90ae"
    },
    {
      "cell_type": "code",
      "metadata": {
        "id": "b6091245"
      },
      "source": [
        "tfidf = TfidfVectorizer(sublinear_tf=True, min_df=5, norm='l2', encoding='latin-1', ngram_range=(1, 2), stop_words='english')\n",
        "features = tfidf.fit_transform(X).toarray()"
      ],
      "id": "b6091245",
      "execution_count": 29,
      "outputs": []
    },
    {
      "cell_type": "markdown",
      "metadata": {
        "id": "8ca5b2a7"
      },
      "source": [
        "From the functions section, the maxvdm() which extracts K modes and returns the mode with the highest energy is called on every line."
      ],
      "id": "8ca5b2a7"
    },
    {
      "cell_type": "code",
      "metadata": {
        "id": "1b55a4ca"
      },
      "source": [
        "X_data = [maxvdm(i) for i in tqdm(features)]"
      ],
      "id": "1b55a4ca",
      "execution_count": null,
      "outputs": []
    },
    {
      "cell_type": "code",
      "metadata": {
        "id": "b89ff8fc"
      },
      "source": [
        "df = pd.DataFrame(X_data)\n",
        "df['l'] = Y_train"
      ],
      "id": "b89ff8fc",
      "execution_count": 31,
      "outputs": []
    },
    {
      "cell_type": "markdown",
      "metadata": {
        "id": "687f4558"
      },
      "source": [
        "## Testing Data:"
      ],
      "id": "687f4558"
    },
    {
      "cell_type": "markdown",
      "metadata": {
        "id": "ed68cba0"
      },
      "source": [
        "The process of testing is similar to the above-mentioned training method, the same object tfidf and labelencoder must be called."
      ],
      "id": "ed68cba0"
    },
    {
      "cell_type": "code",
      "metadata": {
        "id": "4e85fb56"
      },
      "source": [
        "test = pd.read_csv('/content/test.tsv',sep='\\t',header=None)\n",
        "test = format_text(test,1)\n",
        "X_test = test[1].tolist()\n",
        "Y_test = le.transform(test[2])"
      ],
      "id": "4e85fb56",
      "execution_count": 32,
      "outputs": []
    },
    {
      "cell_type": "code",
      "metadata": {
        "id": "60c13f6c"
      },
      "source": [
        "features_test = tfidf.transform(X_test).toarray()\n",
        "X_test = [maxvdm(i) for i in tqdm(features_test)]"
      ],
      "id": "60c13f6c",
      "execution_count": null,
      "outputs": []
    },
    {
      "cell_type": "markdown",
      "metadata": {
        "id": "cf51069f"
      },
      "source": [
        "## Evaluating Model Performance:"
      ],
      "id": "cf51069f"
    },
    {
      "cell_type": "code",
      "metadata": {
        "colab": {
          "base_uri": "https://localhost:8080/"
        },
        "id": "1f2e7fe1",
        "outputId": "cb6efd58-fd21-4e9a-aa91-98c1703868cf"
      },
      "source": [
        "lr = LogisticRegression(random_state=0)\n",
        "lr.fit(X_data,Y_train)"
      ],
      "id": "1f2e7fe1",
      "execution_count": 37,
      "outputs": [
        {
          "output_type": "execute_result",
          "data": {
            "text/plain": [
              "LogisticRegression(C=1.0, class_weight=None, dual=False, fit_intercept=True,\n",
              "                   intercept_scaling=1, l1_ratio=None, max_iter=100,\n",
              "                   multi_class='auto', n_jobs=None, penalty='l2',\n",
              "                   random_state=0, solver='lbfgs', tol=0.0001, verbose=0,\n",
              "                   warm_start=False)"
            ]
          },
          "metadata": {
            "tags": []
          },
          "execution_count": 37
        }
      ]
    },
    {
      "cell_type": "code",
      "metadata": {
        "id": "1b07fb0c"
      },
      "source": [
        "y_pred = lr.predict(X_test)"
      ],
      "id": "1b07fb0c",
      "execution_count": 38,
      "outputs": []
    },
    {
      "cell_type": "code",
      "metadata": {
        "colab": {
          "base_uri": "https://localhost:8080/"
        },
        "id": "0b9d4da3",
        "outputId": "55aacc37-78fd-4554-d85a-ee681ac0108d"
      },
      "source": [
        "print(classification_report(Y_test, y_pred))"
      ],
      "id": "0b9d4da3",
      "execution_count": 39,
      "outputs": [
        {
          "output_type": "stream",
          "text": [
            "              precision    recall  f1-score   support\n",
            "\n",
            "           0       0.76      0.56      0.64       944\n",
            "           1       0.68      0.84      0.75      1056\n",
            "\n",
            "    accuracy                           0.71      2000\n",
            "   macro avg       0.72      0.70      0.70      2000\n",
            "weighted avg       0.72      0.71      0.70      2000\n",
            "\n"
          ],
          "name": "stdout"
        }
      ]
    }
  ]
}