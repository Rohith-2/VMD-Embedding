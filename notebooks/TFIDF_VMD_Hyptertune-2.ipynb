{
 "cells": [
  {
   "cell_type": "code",
   "execution_count": 1,
   "metadata": {
    "id": "yJ-CkY5ghQW-"
   },
   "outputs": [],
   "source": [
    "import numpy as np\n",
    "import pandas as pd\n",
    "import scipy.signal"
   ]
  },
  {
   "cell_type": "code",
   "execution_count": 2,
   "metadata": {
    "colab": {
     "base_uri": "https://localhost:8080/"
    },
    "id": "X3AlPtoNhQXA",
    "outputId": "605b70ba-4ead-4e75-fc45-32cf1d44b33e"
   },
   "outputs": [
    {
     "name": "stdout",
     "output_type": "stream",
     "text": [
      "Requirement already satisfied: vmdpy in /Library/Frameworks/Python.framework/Versions/3.9/lib/python3.9/site-packages (0.2)\n",
      "Requirement already satisfied: numpy in /Library/Frameworks/Python.framework/Versions/3.9/lib/python3.9/site-packages (from vmdpy) (1.19.4)\n",
      "Note: you may need to restart the kernel to use updated packages.\n"
     ]
    }
   ],
   "source": [
    "pip install vmdpy"
   ]
  },
  {
   "cell_type": "code",
   "execution_count": 3,
   "metadata": {
    "id": "CAwClapVhQXB"
   },
   "outputs": [],
   "source": [
    "from vmdpy import VMD\n",
    "from sklearn.feature_extraction.text import TfidfVectorizer\n",
    "from sklearn.preprocessing import LabelEncoder\n",
    "from sklearn.linear_model import LogisticRegression\n",
    "from sklearn.ensemble import RandomForestClassifier\n",
    "from sklearn.neighbors import KNeighborsClassifier\n",
    "from sklearn.metrics import classification_report,accuracy_score,f1_score,precision_score,recall_score"
   ]
  },
  {
   "cell_type": "code",
   "execution_count": 4,
   "metadata": {
    "id": "y4eaDOYxhQXB"
   },
   "outputs": [],
   "source": [
    "train = pd.read_csv('train.tsv',sep='\\t')"
   ]
  },
  {
   "cell_type": "code",
   "execution_count": 5,
   "metadata": {
    "id": "XqVEFjXuhQXC"
   },
   "outputs": [],
   "source": [
    "def format_text(df,col):\n",
    "  #Remove @ tags\n",
    "  comp_df = df.copy()\n",
    "    \n",
    "  # remove all the punctuation\n",
    "  comp_df[col] = comp_df[col].str.replace(r'(@\\w*)','')\n",
    "\n",
    "  #Remove URL\n",
    "  comp_df[col] = comp_df[col].str.replace(r\"http\\S+\", \"\")\n",
    "\n",
    "  #Remove # tag and the following words\n",
    "  comp_df[col] = comp_df[col].str.replace(r'#\\w+',\"\")\n",
    "\n",
    "  #Remove all non-character\n",
    "  comp_df[col] = comp_df[col].str.replace(r\"[^a-zA-Z ]\",\"\")\n",
    "\n",
    "  # Remove extra space\n",
    "  comp_df[col] = comp_df[col].str.replace(r'( +)',\" \")\n",
    "  comp_df[col] = comp_df[col].str.strip()\n",
    "\n",
    "  # Change to lowercase\n",
    "  comp_df[col] = comp_df[col].str.lower()\n",
    "  comp_df[col] = comp_df[col].str.replace('httpurl', '')\n",
    "  return comp_df"
   ]
  },
  {
   "cell_type": "code",
   "execution_count": 6,
   "metadata": {
    "id": "wjpgPX7QhQXC"
   },
   "outputs": [],
   "source": [
    "train = format_text(train,'Text')"
   ]
  },
  {
   "cell_type": "code",
   "execution_count": 7,
   "metadata": {
    "id": "MU9EkEbVhQXE"
   },
   "outputs": [],
   "source": [
    "test = pd.read_csv('test.tsv',sep='\\t',header=None)\n",
    "test = format_text(test,1)"
   ]
  },
  {
   "cell_type": "code",
   "execution_count": 8,
   "metadata": {
    "id": "jAXYAb5JhQXE"
   },
   "outputs": [],
   "source": [
    "X_X = train['Text'].tolist()\n",
    "Y_train = train['Label']"
   ]
  },
  {
   "cell_type": "code",
   "execution_count": 9,
   "metadata": {
    "id": "0S7q2aLzhQXF"
   },
   "outputs": [],
   "source": [
    "le = LabelEncoder()\n",
    "le.fit(Y_train)\n",
    "Y_train = le.transform(Y_train)"
   ]
  },
  {
   "cell_type": "code",
   "execution_count": 10,
   "metadata": {
    "id": "wAaaeOALhQXF"
   },
   "outputs": [],
   "source": [
    "tfidf = TfidfVectorizer(sublinear_tf=True, min_df=5, norm='l2', encoding='latin-1', ngram_range=(1, 2), stop_words='english')\n",
    "features = tfidf.fit_transform(X_X).toarray()"
   ]
  },
  {
   "cell_type": "code",
   "execution_count": 11,
   "metadata": {
    "id": "ebi1wD6xhQXF"
   },
   "outputs": [],
   "source": [
    "def energy(u):\n",
    "# Estimate PSD `S_xx_welch` at discrete frequencies `f_welch`\n",
    "    f_welch, S_xx_welch = scipy.signal.welch(u)\n",
    "\n",
    "    # Integrate PSD over spectral bandwidth\n",
    "    # to obtain signal power `P_welch`\n",
    "    df_welch = f_welch[1] - f_welch[0]\n",
    "    return np.sum(S_xx_welch) * df_welch"
   ]
  },
  {
   "cell_type": "code",
   "execution_count": 12,
   "metadata": {
    "id": "HS5Ln_BHhQXG"
   },
   "outputs": [],
   "source": [
    "def maxvdm(f,alpha):     \n",
    "    tau = 0.            \n",
    "    K = 3         \n",
    "    DC = 0             \n",
    "    init = 1           \n",
    "    tol = 1e-7  \n",
    "    u, u_hat, omega = VMD(f, alpha, tau, K, DC, init, tol) \n",
    "    energy_array=[]\n",
    "    for i in u:\n",
    "        energy_array.append(energy(i))\n",
    "    ind = np.argmax(energy_array)\n",
    "    return u[ind]"
   ]
  },
  {
   "cell_type": "code",
   "execution_count": 13,
   "metadata": {
    "id": "abePeSUehQXG"
   },
   "outputs": [],
   "source": [
    "X_X_1 = test[1].tolist()"
   ]
  },
  {
   "cell_type": "code",
   "execution_count": 14,
   "metadata": {
    "id": "p6-XC6d7hQXG"
   },
   "outputs": [],
   "source": [
    "features_1 = tfidf.transform(X_X_1).toarray()"
   ]
  },
  {
   "cell_type": "code",
   "execution_count": 15,
   "metadata": {
    "id": "_mJ4qixuhQXG"
   },
   "outputs": [],
   "source": [
    "Y_test = le.transform(test[2])"
   ]
  },
  {
   "cell_type": "code",
   "execution_count": 16,
   "metadata": {
    "id": "cdrB1sgFhQXH"
   },
   "outputs": [],
   "source": [
    "models = [\n",
    "    RandomForestClassifier(n_estimators=200, max_depth=3, random_state=0),\n",
    "    LogisticRegression(random_state=0),\n",
    "    KNeighborsClassifier(n_neighbors=3)\n",
    "    ]"
   ]
  },
  {
   "cell_type": "code",
   "execution_count": 33,
   "metadata": {
    "id": "anWlxO10hQXH"
   },
   "outputs": [],
   "source": [
    "models_acc = {\"RandomForestClassifier\":[],\"LogisticRegression\":[],\"KNeighborsClassifier\":[]}\n",
    "models_f1 = {\"RandomForestClassifier\":[],\"LogisticRegression\":[],\"KNeighborsClassifier\":[]}\n",
    "models_pre = {\"RandomForestClassifier\":[],\"LogisticRegression\":[],\"KNeighborsClassifier\":[]}\n",
    "models_re = {\"RandomForestClassifier\":[],\"LogisticRegression\":[],\"KNeighborsClassifier\":[]}"
   ]
  },
  {
   "cell_type": "code",
   "execution_count": 34,
   "metadata": {
    "colab": {
     "base_uri": "https://localhost:8080/"
    },
    "id": "EfFAZLLBhQXI",
    "outputId": "0efb93b4-ee64-4be9-b0d5-c6bb3cb390ac"
   },
   "outputs": [
    {
     "name": "stdout",
     "output_type": "stream",
     "text": [
      "K-Value Tuning : 1 - out of 20 \n",
      "\tTraining Data Done..\n",
      "\tTesting Data Done..\n",
      "K-Value Tuning : 2 - out of 20 \n",
      "\tTraining Data Done..\n",
      "\tTesting Data Done..\n",
      "K-Value Tuning : 3 - out of 20 \n",
      "\tTraining Data Done..\n",
      "\tTesting Data Done..\n",
      "K-Value Tuning : 4 - out of 20 \n",
      "\tTraining Data Done..\n",
      "\tTesting Data Done..\n",
      "K-Value Tuning : 5 - out of 20 \n",
      "\tTraining Data Done..\n",
      "\tTesting Data Done..\n",
      "K-Value Tuning : 6 - out of 20 \n",
      "\tTraining Data Done..\n",
      "\tTesting Data Done..\n",
      "K-Value Tuning : 7 - out of 20 \n",
      "\tTraining Data Done..\n",
      "\tTesting Data Done..\n",
      "K-Value Tuning : 8 - out of 20 \n",
      "\tTraining Data Done..\n",
      "\tTesting Data Done..\n",
      "K-Value Tuning : 9 - out of 20 \n",
      "\tTraining Data Done..\n",
      "\tTesting Data Done..\n",
      "K-Value Tuning : 10 - out of 20 \n",
      "\tTraining Data Done..\n",
      "\tTesting Data Done..\n",
      "K-Value Tuning : 11 - out of 20 \n",
      "\tTraining Data Done..\n",
      "\tTesting Data Done..\n",
      "K-Value Tuning : 12 - out of 20 \n",
      "\tTraining Data Done..\n",
      "\tTesting Data Done..\n",
      "K-Value Tuning : 13 - out of 20 \n",
      "\tTraining Data Done..\n",
      "\tTesting Data Done..\n",
      "K-Value Tuning : 14 - out of 20 \n",
      "\tTraining Data Done..\n",
      "\tTesting Data Done..\n",
      "K-Value Tuning : 15 - out of 20 \n",
      "\tTraining Data Done..\n",
      "\tTesting Data Done..\n",
      "K-Value Tuning : 16 - out of 20 \n",
      "\tTraining Data Done..\n",
      "\tTesting Data Done..\n",
      "K-Value Tuning : 17 - out of 20 \n",
      "\tTraining Data Done..\n",
      "\tTesting Data Done..\n",
      "K-Value Tuning : 18 - out of 20 \n",
      "\tTraining Data Done..\n",
      "\tTesting Data Done..\n",
      "K-Value Tuning : 19 - out of 20 \n",
      "\tTraining Data Done..\n",
      "\tTesting Data Done..\n"
     ]
    }
   ],
   "source": [
    "for k in range(1,20):\n",
    "    print(\"K-Value Tuning :\",k,\"- out of 20 \")\n",
    "    X_train = []\n",
    "    for i in features:\n",
    "        X_train.append(maxvdm(i,k))\n",
    "    print(\"\\tTraining Data Done..\")\n",
    "    X_test = []\n",
    "    for i in features_1:\n",
    "        X_test.append(maxvdm(i,k))\n",
    "    print(\"\\tTesting Data Done..\")\n",
    "    for i in models:\n",
    "        i.fit(X_train, Y_train)\n",
    "        y_pred = i.predict(X_test)\n",
    "        acc = accuracy_score(Y_test, y_pred)\n",
    "        f1  = f1_score(Y_test, y_pred)\n",
    "        pre = precision_score(Y_test, y_pred)\n",
    "        re = recall_score(Y_test, y_pred)\n",
    "        name = i.__class__.__name__\n",
    "        models_acc[name].append(acc)\n",
    "        models_f1[name].append(f1)\n",
    "        models_pre[name].append(pre)\n",
    "        models_re[name].append(re)"
   ]
  },
  {
   "cell_type": "code",
   "execution_count": 35,
   "metadata": {
    "id": "cc8I9BT7hQXI"
   },
   "outputs": [],
   "source": [
    "A = pd.DataFrame([models_acc,models_f1,models_pre,models_re])"
   ]
  },
  {
   "cell_type": "code",
   "execution_count": 36,
   "metadata": {
    "id": "iuyFIAoEhQXI"
   },
   "outputs": [],
   "source": [
    "A.to_csv(\"Hyper_alpha-1to20.csv\")"
   ]
  }
 ],
 "metadata": {
  "colab": {
   "collapsed_sections": [],
   "name": "TFIDF_VMD_Hyptertune.ipynb",
   "provenance": []
  },
  "kernelspec": {
   "display_name": "Python 3.8.0 64-bit",
   "language": "python",
   "name": "python38064bit1060d4750c904259afeb7847dfa8ded2"
  },
  "language_info": {
   "codemirror_mode": {
    "name": "ipython",
    "version": 3
   },
   "file_extension": ".py",
   "mimetype": "text/x-python",
   "name": "python",
   "nbconvert_exporter": "python",
   "pygments_lexer": "ipython3",
   "version": "3.9.2"
  },
  "toc": {
   "base_numbering": 1,
   "nav_menu": {},
   "number_sections": false,
   "sideBar": false,
   "skip_h1_title": false,
   "title_cell": "Table of Contents",
   "title_sidebar": "Contents",
   "toc_cell": false,
   "toc_position": {},
   "toc_section_display": false,
   "toc_window_display": false
  }
 },
 "nbformat": 4,
 "nbformat_minor": 1
}
